{
 "cells": [
  {
   "cell_type": "code",
   "execution_count": 490,
   "metadata": {},
   "outputs": [],
   "source": [
    "import subprocess\n",
    "import pandas as pd\n",
    "import datetime\n",
    "def ip_scan(fichero): # creamos una función que desempeñará todo.\n",
    "    \n",
    "    with open(fichero) as f: #abrimos el fichero y nos guardamos todas las lineas en una variable.\n",
    "        lines = f.readlines()\n",
    "    cont=0\n",
    "    df = pd.DataFrame(index = list(range(100)),columns=['ip','protocol','puerto']) # definimos dataframe\n",
    "    \n",
    "    for i,k in enumerate(lines): # bucle en el archivo de ips fichero.txt.\n",
    "\n",
    "        string_443 =\"nmap -p 8443-8443 {}\".format(k)\n",
    "        string_8443 = \"nmap -p 8443-8443 {}\".format(k)\n",
    "        result_443_ip= subprocess.getoutput(string_443)\n",
    "        result_8443_ip= subprocess.getoutput(string_8443)\n",
    "        file = open(\"ip_scan_{}.txt\".format(k), \"w\") \n",
    "        file.write(result_443_ip) \n",
    "        file.write(result_8443_ip)\n",
    "        file.close()\n",
    "                                            # asignamos la salida de cada comando a una variable y lo devolvemos en un txt con el resultado.\n",
    "\n",
    "        scan_443 = \"sslscan {}:{} grep -F Preferred\".format(k,443)\n",
    "        scan_8443 = \"sslscan {}:{} grep -F Preferred\".format(k,8443)\n",
    "\n",
    "        result443 = subprocess.getoutput(scan_443)\n",
    "        result8443 = subprocess.getoutput(scan_8443)\n",
    "        \n",
    "                                            # volvemos a asignar el output a una variable, luego hacemos loop y buscamos sobre ellas la línea\n",
    "                                            # Preferred, que es lo que estamos buscando.\n",
    "                                            # se ha hecho solo sobre la preferred.\n",
    "        cont+=1\n",
    "        for item1 in result443.split(\"\\n\"): # leemos linea a linea por cada archivo de puertos diferente \n",
    "                                            #y buscarmos el término \"preferred\" y asignamos la parte que nos interesa a un DF.\n",
    "\n",
    "            if \"Preferred\" in item1:\n",
    "                #print(item1.split(' ')[1])\n",
    "                k=k.replace('\\n',\"\")\n",
    "                df['ip'].loc[cont] = k\n",
    "                df['protocol'].loc[cont] = item1.split(' ')[1]\n",
    "                df['puerto'].loc[cont] = 443\n",
    "                cont+=1\n",
    "\n",
    "        for item2 in result8443.split(\"\\n\"):\n",
    "\n",
    "            if \"Preferred\" in item2:\n",
    "                #print(item2.split(' ')[1])\n",
    "                k=k.replace('\\n',\"\")\n",
    "                df['ip'].loc[cont] = k\n",
    "                df['protocol'].loc[cont] = item2.split(' ')[1]\n",
    "                df['puerto'].loc[cont] = 8443\n",
    "                cont+=1\n",
    "                                            # Tenemos que quedarnos con los datos limpios para ello usamos libreria como str.split para separar \n",
    "                                            # y quedarnos la parte que queremos.\n",
    "                                        \n",
    "    \n",
    "                                            #clean and adapt the dataframe\n",
    "                                            # creamos columnas, limpiamos y dejamos el dataframe tal cual el ejercicio(limpieza y dtypes)\n",
    "    df.dropna(inplace=True)\n",
    "    df['protocol'][3] = df['protocol'][3][5:12]\n",
    "    df['protocol'][6] = df['protocol'][6][5:12]\n",
    "    df['SSLv2'] = False\n",
    "    df['SSLv3'] = False\n",
    "    df ['TLSv1.0'] = False\n",
    "    df ['TLSv1.1'] = False\n",
    "    df ['TLSv1.2'] = False\n",
    "    df['TLSv1.3'] = False\n",
    "    df['Fecha'] = datetime.datetime.now()\n",
    "    date=datetime.datetime.now().date()\n",
    "    date=pd.to_datetime(date)\n",
    "    df['Fecha']=pd.to_datetime(date)\n",
    "    df=df.reset_index().reset_index()\n",
    "    df.drop(['index'],axis=1,inplace=True)\n",
    "    df.rename(columns={'level_0':'index'},inplace=True)\n",
    "    \n",
    "    for i,x in enumerate(df['protocol']):     # asignamos True a los protocolos que tenga cada ip en la columna correspondiente.\n",
    "        if x  in df:\n",
    "            df[x][i]=True\n",
    "    df.drop(['protocol'],inplace=True,axis=1)\n",
    "    \n",
    "                                                #dataframe to SQLalchemy(sqlite3) Libreria para pasar de Dataframe a crear la base de datos.\n",
    "    from sqlalchemy import create_engine\n",
    "    engine = create_engine('sqlite:///ssldb.db', echo=True)\n",
    "    sqlite_connection = engine.connect()\n",
    "    sqlite_table = \"ips\"\n",
    "    df.to_sql(sqlite_table, sqlite_connection, if_exists='fail')\n",
    "    sqlite_connection.close()\n",
    "    return df\n"
   ]
  },
  {
   "cell_type": "code",
   "execution_count": 491,
   "metadata": {},
   "outputs": [
    {
     "name": "stdout",
     "output_type": "stream",
     "text": [
      "2021-05-03 19:44:49,137 INFO sqlalchemy.engine.base.Engine SELECT CAST('test plain returns' AS VARCHAR(60)) AS anon_1\n",
      "2021-05-03 19:44:49,137 INFO sqlalchemy.engine.base.Engine ()\n",
      "2021-05-03 19:44:49,139 INFO sqlalchemy.engine.base.Engine SELECT CAST('test unicode returns' AS VARCHAR(60)) AS anon_1\n",
      "2021-05-03 19:44:49,140 INFO sqlalchemy.engine.base.Engine ()\n",
      "2021-05-03 19:44:49,146 INFO sqlalchemy.engine.base.Engine PRAGMA main.table_info(\"ips\")\n",
      "2021-05-03 19:44:49,147 INFO sqlalchemy.engine.base.Engine ()\n",
      "2021-05-03 19:44:49,149 INFO sqlalchemy.engine.base.Engine PRAGMA temp.table_info(\"ips\")\n",
      "2021-05-03 19:44:49,150 INFO sqlalchemy.engine.base.Engine ()\n",
      "2021-05-03 19:44:49,155 INFO sqlalchemy.engine.base.Engine \n",
      "CREATE TABLE ips (\n",
      "\tlevel_0 BIGINT, \n",
      "\t\"index\" BIGINT, \n",
      "\tip TEXT, \n",
      "\tpuerto BIGINT, \n",
      "\t\"SSLv2\" BOOLEAN, \n",
      "\t\"SSLv3\" BOOLEAN, \n",
      "\t\"TLSv1.0\" BOOLEAN, \n",
      "\t\"TLSv1.1\" BOOLEAN, \n",
      "\t\"TLSv1.2\" BOOLEAN, \n",
      "\t\"TLSv1.3\" BOOLEAN, \n",
      "\t\"Fecha\" DATETIME, \n",
      "\tCHECK (\"SSLv2\" IN (0, 1)), \n",
      "\tCHECK (\"SSLv3\" IN (0, 1)), \n",
      "\tCHECK (\"TLSv1.0\" IN (0, 1)), \n",
      "\tCHECK (\"TLSv1.1\" IN (0, 1)), \n",
      "\tCHECK (\"TLSv1.2\" IN (0, 1)), \n",
      "\tCHECK (\"TLSv1.3\" IN (0, 1))\n",
      ")\n",
      "\n",
      "\n",
      "2021-05-03 19:44:49,157 INFO sqlalchemy.engine.base.Engine ()\n",
      "2021-05-03 19:44:49,165 INFO sqlalchemy.engine.base.Engine COMMIT\n",
      "2021-05-03 19:44:49,166 INFO sqlalchemy.engine.base.Engine CREATE INDEX ix_ips_level_0 ON ips (level_0)\n",
      "2021-05-03 19:44:49,167 INFO sqlalchemy.engine.base.Engine ()\n",
      "2021-05-03 19:44:49,184 INFO sqlalchemy.engine.base.Engine COMMIT\n",
      "2021-05-03 19:44:49,188 INFO sqlalchemy.engine.base.Engine BEGIN (implicit)\n",
      "2021-05-03 19:44:49,190 INFO sqlalchemy.engine.base.Engine INSERT INTO ips (level_0, \"index\", ip, puerto, \"SSLv2\", \"SSLv3\", \"TLSv1.0\", \"TLSv1.1\", \"TLSv1.2\", \"TLSv1.3\", \"Fecha\") VALUES (?, ?, ?, ?, ?, ?, ?, ?, ?, ?, ?)\n",
      "2021-05-03 19:44:49,191 INFO sqlalchemy.engine.base.Engine ((0, 0, 'www.google.es', 443, 0, 0, 0, 0, 1, 0, '2021-05-03 00:00:00.000000'), (1, 1, 'www.google.es', 443, 0, 0, 0, 1, 0, 0, '2021-05-03 00:00:00.000000'), (2, 2, 'www.google.es', 443, 0, 0, 1, 0, 0, 0, '2021-05-03 00:00:00.000000'), (3, 3, 'www.google.es', 8443, 0, 0, 0, 0, 1, 0, '2021-05-03 00:00:00.000000'), (4, 4, 'www.google.es', 8443, 0, 0, 0, 1, 0, 0, '2021-05-03 00:00:00.000000'), (5, 5, 'www.google.es', 8443, 0, 0, 1, 0, 0, 0, '2021-05-03 00:00:00.000000'), (6, 6, 'www.elperiodico.es', 443, 0, 0, 0, 0, 1, 0, '2021-05-03 00:00:00.000000'), (7, 7, 'www.elperiodico.es', 8443, 0, 0, 0, 0, 1, 0, '2021-05-03 00:00:00.000000')  ... displaying 10 of 12 total bound parameter sets ...  (10, 10, 'www.lavanguardia.es', 443, 0, 0, 0, 0, 1, 0, '2021-05-03 00:00:00.000000'), (11, 11, 'www.lavanguardia.es', 8443, 0, 0, 0, 0, 1, 0, '2021-05-03 00:00:00.000000'))\n",
      "2021-05-03 19:44:49,193 INFO sqlalchemy.engine.base.Engine COMMIT\n"
     ]
    },
    {
     "name": "stderr",
     "output_type": "stream",
     "text": [
      "<ipython-input-490-51552db74340>:68: SettingWithCopyWarning: \n",
      "A value is trying to be set on a copy of a slice from a DataFrame\n",
      "\n",
      "See the caveats in the documentation: https://pandas.pydata.org/pandas-docs/stable/user_guide/indexing.html#returning-a-view-versus-a-copy\n",
      "  df[x][i]=True\n"
     ]
    }
   ],
   "source": [
    "df = ip_scan('fichero.txt')"
   ]
  },
  {
   "cell_type": "code",
   "execution_count": 492,
   "metadata": {},
   "outputs": [
    {
     "data": {
      "text/plain": [
       "index               int64\n",
       "ip                 object\n",
       "puerto             object\n",
       "SSLv2                bool\n",
       "SSLv3                bool\n",
       "TLSv1.0              bool\n",
       "TLSv1.1              bool\n",
       "TLSv1.2              bool\n",
       "TLSv1.3              bool\n",
       "Fecha      datetime64[ns]\n",
       "dtype: object"
      ]
     },
     "execution_count": 492,
     "metadata": {},
     "output_type": "execute_result"
    }
   ],
   "source": [
    "df.dtypes"
   ]
  },
  {
   "cell_type": "code",
   "execution_count": null,
   "metadata": {},
   "outputs": [],
   "source": []
  },
  {
   "cell_type": "code",
   "execution_count": 409,
   "metadata": {},
   "outputs": [],
   "source": [
    "#from sqlalchemy import create_engine"
   ]
  },
  {
   "cell_type": "code",
   "execution_count": 488,
   "metadata": {},
   "outputs": [],
   "source": [
    "#engine = create_engine('sqlite:///ssldb.db', echo=True)\n",
    "#sqlite_connection = engine.connect()"
   ]
  },
  {
   "cell_type": "code",
   "execution_count": 486,
   "metadata": {},
   "outputs": [],
   "source": [
    "#pip install sqlalchemy==1.3.15"
   ]
  },
  {
   "cell_type": "code",
   "execution_count": null,
   "metadata": {},
   "outputs": [],
   "source": []
  },
  {
   "cell_type": "code",
   "execution_count": null,
   "metadata": {},
   "outputs": [],
   "source": []
  },
  {
   "cell_type": "code",
   "execution_count": 403,
   "metadata": {},
   "outputs": [],
   "source": []
  },
  {
   "cell_type": "code",
   "execution_count": null,
   "metadata": {},
   "outputs": [],
   "source": []
  },
  {
   "cell_type": "code",
   "execution_count": null,
   "metadata": {},
   "outputs": [],
   "source": []
  }
 ],
 "metadata": {
  "kernelspec": {
   "display_name": "Python 3",
   "language": "python",
   "name": "python3"
  },
  "language_info": {
   "codemirror_mode": {
    "name": "ipython",
    "version": 3
   },
   "file_extension": ".py",
   "mimetype": "text/x-python",
   "name": "python",
   "nbconvert_exporter": "python",
   "pygments_lexer": "ipython3",
   "version": "3.8.5"
  }
 },
 "nbformat": 4,
 "nbformat_minor": 4
}
